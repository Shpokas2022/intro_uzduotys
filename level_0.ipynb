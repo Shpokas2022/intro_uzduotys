{
 "cells": [
  {
   "cell_type": "markdown",
   "metadata": {},
   "source": [
    "# Python užduotys - programavimo pagrindų treniruotės\n",
    "pirmas dublis, ar lengviau? Vistiek randu kur pasunkinti 😇"
   ]
  },
  {
   "cell_type": "markdown",
   "metadata": {},
   "source": [
    "## 1. Matematika\n",
    "1. parašykite funkciją, kuri lyginius skaičius dalintų vieną iš kito, o nelyginius sudaugintų, ir rezultatą grąžintų. Jeigu vienas yra lyginis, o kitas ne - atimtų didesnį iš mažesnio."
   ]
  },
  {
   "cell_type": "code",
   "execution_count": null,
   "metadata": {},
   "outputs": [],
   "source": [
    "\n",
    "for i in range(1,100):\n",
    "    if i % 2 = 0:\n",
    "\n"
   ]
  },
  {
   "cell_type": "markdown",
   "metadata": {},
   "source": [
    "### Atsakymai"
   ]
  },
  {
   "cell_type": "code",
   "execution_count": 57,
   "metadata": {},
   "outputs": [
    {
     "name": "stdout",
     "output_type": "stream",
     "text": [
      "2.0\n",
      "0.5\n",
      "21\n",
      "1\n",
      "5\n"
     ]
    }
   ],
   "source": [
    "def multidivrest(number1, number2):\n",
    "    if number1 % 2 == 0 and number2 % 2 == 0 and number2 != 0:\n",
    "        return number1 / number2\n",
    "    elif number1 % 2 != 0 and number2 % 2 != 0:\n",
    "        return number1 * number2\n",
    "    else:\n",
    "        return abs(number1 - number2)\n",
    "\n",
    "print(multidivrest(4, 2))\n",
    "print(multidivrest(2, 4))\n",
    "print(multidivrest(3, 7))\n",
    "print(multidivrest(4, 3))\n",
    "print(multidivrest(4, 9))"
   ]
  },
  {
   "cell_type": "markdown",
   "metadata": {},
   "source": [
    "## 2. Grąžinkite sveikų skaičių sąrašo didžiausios ir mažiausios reikšmių indeksus"
   ]
  },
  {
   "cell_type": "markdown",
   "metadata": {},
   "source": [
    "### Atsakymas"
   ]
  },
  {
   "cell_type": "code",
   "execution_count": 58,
   "metadata": {},
   "outputs": [
    {
     "name": "stdout",
     "output_type": "stream",
     "text": [
      "2\n",
      "3\n"
     ]
    }
   ],
   "source": [
    "sarasas = [5, 7, 12, 1, 6, 4, 7, 11]\n",
    "# print(sarasas.index(6))\n",
    "print(sarasas.index(max(sarasas)))\n",
    "print(sarasas.index(min(sarasas)))"
   ]
  },
  {
   "cell_type": "markdown",
   "metadata": {},
   "source": [
    "## 3. Išmaišykite kortų kaladę\n",
    "* Sukurkite sarašą skaičių nuo 1 iki 52\n",
    "* Importuokite iš `random` modulio `shuffle`\n",
    "* Išmaišykite sąrašo elementus atsitiktine tvarka\n",
    "* Bonus: vietoj elementų skaičių, sugeneruokite saraše kortų kaladės reikšmes.\n",
    "\n",
    "P.S. Google `unicode character table` &#128514; padės su kortų paveiksliukais ar kitais emoji. Pvz `\"\\u2660\"` yra ♠ lapai"
   ]
  },
  {
   "cell_type": "code",
   "execution_count": 14,
   "metadata": {},
   "outputs": [
    {
     "name": "stdout",
     "output_type": "stream",
     "text": [
      "[7, 14, 2, 4, 12, 24, 3, 44, 13, 11, 36, 51, 27, 38, 6, 25, 8, 5, 45, 1, 31, 10, 43, 37, 42, 40, 15, 32, 16, 28, 41, 9, 35, 47, 48, 50, 23, 39, 34, 33, 29, 22, 46, 30, 49, 18, 52, 17, 26, 20, 21, 19]\n"
     ]
    }
   ],
   "source": [
    "from random import shuffle\n",
    "kortos = list(range(1, 53))\n",
    "shuffle(kortos)\n",
    "print(kortos)"
   ]
  },
  {
   "cell_type": "markdown",
   "metadata": {},
   "source": [
    "### Atsakymai be bonus dalies"
   ]
  },
  {
   "cell_type": "code",
   "execution_count": 24,
   "metadata": {},
   "outputs": [
    {
     "name": "stdout",
     "output_type": "stream",
     "text": [
      "['8♦', '3♦', 'Q♠', 'K♦', 'K♠', 'Q♣', '9♣', '6♥', '7♠', '4♠', '4♦', '2♠', '6♦', 'Q♥', '10♦', '8♠', '3♥', '10♠', '5♣', 'V♠', '7♥', '2♣', 'K♣', '8♥', '3♣', 'T♦', 'T♥', 'V♥', 'Q♦', '9♦', '5♦', 'K♥', '3♠', '7♦', '10♣', '10♥', 'V♦', '4♥', '4♣', '5♠', '2♥', '9♥', 'T♣', 'V♣', '9♠', '2♦', '5♥', '6♣', '8♣', 'T♠', '7♣', '6♠']\n",
      "Jūs ištraukėte:\n",
      "8 of ♦\n",
      "3 of ♦\n",
      "Q of ♠\n",
      "K of ♦\n",
      "K of ♠\n"
     ]
    }
   ],
   "source": [
    "from random import shuffle\n",
    "# sarasas = list(range(1, 53))\n",
    "# shuffle(sarasas)\n",
    "# print(sarasas)\n",
    "kortos = []\n",
    "for mostis in[\"\\u2660\", \"\\u2663\", \"\\u2665\", \"\\u2666\"]:\n",
    "    for reiksme in [*range(2,11), \"V\", \"Q\", \"K\", \"T\"]:\n",
    "        kortos.append(f\"{reiksme}{mostis}\")\n",
    "shuffle(kortos)\n",
    "print(kortos)\n",
    "# istraukti 5 kortas\n",
    "print(\"Jūs ištraukėte:\")\n",
    "for i in range(5):\n",
    "   print(kortos[i][0], \"of\", kortos[i][1])\n",
    "\n",
    "# draw five cards\n",
    "# print(\"You got:\")\n",
    "# for i in range(5):\n",
    "#    print(kortos[i][0], \"of\", kortos[i][1])\n",
    "\n",
    "        "
   ]
  },
  {
   "cell_type": "markdown",
   "metadata": {},
   "source": [
    "### Bonus dalies atsakymai"
   ]
  },
  {
   "cell_type": "code",
   "execution_count": 15,
   "metadata": {},
   "outputs": [
    {
     "name": "stdout",
     "output_type": "stream",
     "text": [
      "['2♠', '3♠', '4♠', '5♠', '6♠', '7♠', '8♠', '9♠', 'T♠', 'J♠', 'Q♠', 'K♠', 'A♠', '2♣', '3♣', '4♣', '5♣', '6♣', '7♣', '8♣', '9♣', 'T♣', 'J♣', 'Q♣', 'K♣', 'A♣', '2♥', '3♥', '4♥', '5♥', '6♥', '7♥', '8♥', '9♥', 'T♥', 'J♥', 'Q♥', 'K♥', 'A♥', '2♦', '3♦', '4♦', '5♦', '6♦', '7♦', '8♦', '9♦', 'T♦', 'J♦', 'Q♦', 'K♦', 'A♦']\n"
     ]
    }
   ],
   "source": [
    "kortos = []\n",
    "for zenklas in [\"\\u2660\", \"\\u2663\", \"\\u2665\", \"\\u2666\"]:\n",
    "    for reiksme in [*range(2, 10), \"T\", \"J\", \"Q\", \"K\", \"A\"]:\n",
    "        kortos.append(f\"{reiksme}{zenklas}\")\n",
    "# shuffle(kortos)\n",
    "print(kortos)"
   ]
  },
  {
   "cell_type": "markdown",
   "metadata": {},
   "source": [
    "## 4. nugyventa >= 30 penktadienių\n",
    "Suskaičiuokite, kiek penktadienių, kurių mėnesio diena yra 30 ir daugiau, praėjo nuo jūsų gimtadienio"
   ]
  },
  {
   "cell_type": "markdown",
   "metadata": {},
   "source": [
    "### Atsakymas žiaurus.\n",
    "Nepatikėjau tai spausdinau sąrašą"
   ]
  },
  {
   "cell_type": "code",
   "execution_count": 19,
   "metadata": {},
   "outputs": [
    {
     "name": "stdout",
     "output_type": "stream",
     "text": [
      "2061\n",
      "Nugyvenau 100 30+ penktadienių\n",
      "1983-09-30\n",
      "1983-12-30\n",
      "1984-03-30\n",
      "1984-08-31\n",
      "1984-11-30\n",
      "1985-05-31\n",
      "1985-08-30\n",
      "1986-01-31\n",
      "1986-05-30\n",
      "1986-10-31\n",
      "1987-01-30\n",
      "1987-07-31\n",
      "1987-10-30\n",
      "1988-09-30\n",
      "1988-12-30\n",
      "1989-03-31\n",
      "1989-06-30\n",
      "1990-03-30\n",
      "1990-08-31\n",
      "1990-11-30\n",
      "1991-05-31\n",
      "1991-08-30\n",
      "1992-01-31\n",
      "1992-07-31\n",
      "1992-10-30\n",
      "1993-04-30\n",
      "1993-07-30\n",
      "1993-12-31\n",
      "1994-09-30\n",
      "1994-12-30\n",
      "1995-03-31\n",
      "1995-06-30\n",
      "1996-05-31\n",
      "1996-08-30\n",
      "1997-01-31\n",
      "1997-05-30\n",
      "1997-10-31\n",
      "1998-01-30\n",
      "1998-07-31\n",
      "1998-10-30\n",
      "1999-04-30\n",
      "1999-07-30\n",
      "1999-12-31\n",
      "2000-03-31\n",
      "2000-06-30\n",
      "2001-03-30\n",
      "2001-08-31\n",
      "2001-11-30\n",
      "2002-05-31\n",
      "2002-08-30\n",
      "2003-01-31\n",
      "2003-05-30\n",
      "2003-10-31\n",
      "2004-01-30\n",
      "2004-04-30\n",
      "2004-07-30\n",
      "2004-12-31\n",
      "2005-09-30\n",
      "2005-12-30\n",
      "2006-03-31\n",
      "2006-06-30\n",
      "2007-03-30\n",
      "2007-08-31\n",
      "2007-11-30\n",
      "2008-05-30\n",
      "2008-10-31\n",
      "2009-01-30\n",
      "2009-07-31\n",
      "2009-10-30\n",
      "2010-04-30\n",
      "2010-07-30\n",
      "2010-12-31\n",
      "2011-09-30\n",
      "2011-12-30\n",
      "2012-03-30\n",
      "2012-08-31\n",
      "2012-11-30\n",
      "2013-05-31\n",
      "2013-08-30\n",
      "2014-01-31\n",
      "2014-05-30\n",
      "2014-10-31\n",
      "2015-01-30\n",
      "2015-07-31\n",
      "2015-10-30\n",
      "2016-09-30\n",
      "2016-12-30\n",
      "2017-03-31\n",
      "2017-06-30\n",
      "2018-03-30\n",
      "2018-08-31\n",
      "2018-11-30\n",
      "2019-05-31\n",
      "2019-08-30\n",
      "2020-01-31\n",
      "2020-07-31\n",
      "2020-10-30\n",
      "2021-04-30\n",
      "2021-07-30\n",
      "2021-12-31\n"
     ]
    }
   ],
   "source": [
    "from datetime import date, timedelta\n",
    "gimtadienis = date(1983, 3, 19)\n",
    "skirtumas = date.today() - gimtadienis\n",
    "# viso nugyventa penktadienių\n",
    "print(skirtumas.days // 7)\n",
    "# penktadieniai virš 30 mėnesio dienos bus renkami čia\n",
    "penktadieniai_30p = []\n",
    "# randame pirmą penktadienį\n",
    "if 4 - gimtadienis.weekday() >= 0:\n",
    "    pirmas_penktadienis = gimtadienis + timedelta(days=(4-gimtadienis.weekday()))\n",
    "else:\n",
    "    pirmas_penktadienis = gimtadienis + timedelta(days=(11-gimtadienis.weekday()))\n",
    "# einam per visų mugyventų penktadienių datas\n",
    "for kelintas in range(skirtumas.days // 7 + 1):\n",
    "    penktadienis = pirmas_penktadienis + timedelta(days=7*kelintas)\n",
    "    # ir tikrinam mėnesio dieną. Jei pasisekė - traukiam į sąrašą.\n",
    "    if penktadienis.day >= 30:\n",
    "        penktadieniai_30p.append(penktadienis)\n",
    "# tiesos akimirka\n",
    "print(f\"Nugyvenau {len(penktadieniai_30p)} 30+ penktadienių\")\n",
    "for spausdintadienis in penktadieniai_30p:\n",
    "    print(spausdintadienis)"
   ]
  }
 ],
 "metadata": {
  "kernelspec": {
   "display_name": "Python 3.10.6 64-bit",
   "language": "python",
   "name": "python3"
  },
  "language_info": {
   "codemirror_mode": {
    "name": "ipython",
    "version": 3
   },
   "file_extension": ".py",
   "mimetype": "text/x-python",
   "name": "python",
   "nbconvert_exporter": "python",
   "pygments_lexer": "ipython3",
   "version": "3.10.6"
  },
  "orig_nbformat": 4,
  "vscode": {
   "interpreter": {
    "hash": "8c3d4d9970fc5c09c50d9318a9c7fbf4d0159e4b28833276f5678ee22bded273"
   }
  }
 },
 "nbformat": 4,
 "nbformat_minor": 2
}
